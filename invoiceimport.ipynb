{
 "cells": [
  {
   "cell_type": "code",
   "execution_count": 1,
   "metadata": {},
   "outputs": [],
   "source": [
    "import pymysql\n",
    "pymysql.install_as_MySQLdb()\n",
    "import MySQLdb\n",
    "import xlrd"
   ]
  },
  {
   "cell_type": "code",
   "execution_count": 2,
   "metadata": {},
   "outputs": [],
   "source": [
    "database = MySQLdb.connect (host=\"localhost\" , user=\"root\" , passwd=\"Shawshank@1\" ,db=\"gibs\")\n",
    "cursor = database.cursor()"
   ]
  },
  {
   "cell_type": "code",
   "execution_count": 3,
   "metadata": {},
   "outputs": [],
   "source": [
    "invoice_table = (\"CREATE TABLE invoice(invoice_id int,customer_id int NOT NULL, product_id int NOT NULL,employee_id int,product_name varchar(255), invoice_quantity int,invoice_total int, PRIMARY KEY (invoice_id))\")"
   ]
  },
  {
   "cell_type": "code",
   "execution_count": 4,
   "metadata": {},
   "outputs": [
    {
     "data": {
      "text/plain": [
       "0"
      ]
     },
     "execution_count": 4,
     "metadata": {},
     "output_type": "execute_result"
    }
   ],
   "source": [
    "cursor.execute(invoice_table)\n"
   ]
  },
  {
   "cell_type": "code",
   "execution_count": 7,
   "metadata": {},
   "outputs": [
    {
     "data": {
      "text/plain": [
       "<xlrd.book.Book at 0x1206b40a0>"
      ]
     },
     "execution_count": 7,
     "metadata": {},
     "output_type": "execute_result"
    }
   ],
   "source": [
    "excel_sheet = xlrd.open_workbook('/Users/kalindjoshi/Desktop/ass3/invoicefinal.xls')\n",
    "excel_sheet"
   ]
  },
  {
   "cell_type": "code",
   "execution_count": 8,
   "metadata": {},
   "outputs": [
    {
     "data": {
      "text/plain": [
       "['Sheet1']"
      ]
     },
     "execution_count": 8,
     "metadata": {},
     "output_type": "execute_result"
    }
   ],
   "source": [
    "sheet_name = excel_sheet.sheet_names()\n",
    "sheet_name"
   ]
  },
  {
   "cell_type": "code",
   "execution_count": 9,
   "metadata": {},
   "outputs": [],
   "source": [
    "insert_query = \"INSERT INTO invoice(invoice_id,\tcustomer_id,\tproduct_id,\temployee_id,\tproduct_name,\tinvoice_quantity,\tinvoice_total) VALUES (%s,%s,%s,%s,%s,%s,%s)\""
   ]
  },
  {
   "cell_type": "code",
   "execution_count": 10,
   "metadata": {},
   "outputs": [],
   "source": [
    "for sh in range(0,len(sheet_name)):\n",
    "    sheet= excel_sheet.sheet_by_index(sh)\n",
    "    \n",
    "    for r in range(1,sheet.nrows):\n",
    "        invoice_id = sheet.cell(r,0).value\n",
    "\n",
    "        customer_id = sheet.cell(r,1).value\n",
    "\n",
    "        product_id = sheet.cell(r,2).value\n",
    "     \n",
    "        employee_id = sheet.cell(r,3).value\n",
    "\n",
    "        product_name = sheet.cell(r,4).value\n",
    "      \n",
    "        invoice_quantity = sheet.cell(r,5).value\n",
    "        invoice_total = sheet.cell(r,6).value\n",
    "        \n",
    "        \n",
    "        \n",
    "        invoice_details_value = (invoice_id,\tcustomer_id,\tproduct_id,\temployee_id,\tproduct_name,\tinvoice_quantity,\tinvoice_total)\n",
    "        \n",
    "        \n",
    "        cursor.execute(insert_query,invoice_details_value)\n",
    "        database.commit()"
   ]
  },
  {
   "cell_type": "code",
   "execution_count": null,
   "metadata": {},
   "outputs": [],
   "source": []
  }
 ],
 "metadata": {
  "kernelspec": {
   "display_name": "Python 3.10.8 64-bit",
   "language": "python",
   "name": "python3"
  },
  "language_info": {
   "codemirror_mode": {
    "name": "ipython",
    "version": 3
   },
   "file_extension": ".py",
   "mimetype": "text/x-python",
   "name": "python",
   "nbconvert_exporter": "python",
   "pygments_lexer": "ipython3",
   "version": "3.10.8"
  },
  "orig_nbformat": 4,
  "vscode": {
   "interpreter": {
    "hash": "b0fa6594d8f4cbf19f97940f81e996739fb7646882a419484c72d19e05852a7e"
   }
  }
 },
 "nbformat": 4,
 "nbformat_minor": 2
}
