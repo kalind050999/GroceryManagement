{
 "cells": [
  {
   "cell_type": "code",
   "execution_count": 187,
   "metadata": {},
   "outputs": [],
   "source": [
    "import pymysql\n",
    "pymysql.install_as_MySQLdb()\n",
    "import MySQLdb\n",
    "import xlrd\n",
    "\n",
    "#importing libraries and installing MYSQLdb library"
   ]
  },
  {
   "cell_type": "code",
   "execution_count": 188,
   "metadata": {},
   "outputs": [],
   "source": [
    "database = MySQLdb.connect (host=\"localhost\" , user=\"root\" , passwd=\"Shawshank@1\" ,db=\"gibs\")\n",
    "cursor = database.cursor()\n",
    "\n",
    "#connecting MYSQL DB to python "
   ]
  },
  {
   "cell_type": "code",
   "execution_count": 189,
   "metadata": {},
   "outputs": [],
   "source": [
    "prod_table = (\"CREATE TABLE product(product_id int,product_name varchar(255) NOT NULL, product_discount int NOT NULL,product_mp int,product_sp int, product_price float,product_category varchar(255), PRIMARY KEY (product_id))\")\n",
    "\n",
    "#creating a table in MYSQL"
   ]
  },
  {
   "cell_type": "code",
   "execution_count": 190,
   "metadata": {},
   "outputs": [
    {
     "data": {
      "text/plain": [
       "0"
      ]
     },
     "execution_count": 190,
     "metadata": {},
     "output_type": "execute_result"
    }
   ],
   "source": [
    "cursor.execute(prod_table)\n"
   ]
  },
  {
   "cell_type": "code",
   "execution_count": 191,
   "metadata": {},
   "outputs": [
    {
     "data": {
      "text/plain": [
       "<xlrd.book.Book at 0x1093b2ec0>"
      ]
     },
     "execution_count": 191,
     "metadata": {},
     "output_type": "execute_result"
    }
   ],
   "source": [
    "excel_sheet = xlrd.open_workbook('/Users/kalindjoshi/Desktop/ass3/prodcleanimport.xls')\n",
    "excel_sheet\n",
    "\n",
    "#opening the import file"
   ]
  },
  {
   "cell_type": "code",
   "execution_count": 192,
   "metadata": {},
   "outputs": [
    {
     "data": {
      "text/plain": [
       "['prodclean copy']"
      ]
     },
     "execution_count": 192,
     "metadata": {},
     "output_type": "execute_result"
    }
   ],
   "source": [
    "sheet_name = excel_sheet.sheet_names()\n",
    "sheet_name"
   ]
  },
  {
   "cell_type": "code",
   "execution_count": 193,
   "metadata": {},
   "outputs": [],
   "source": [
    "insert_query = \"INSERT INTO product(product_id,\tproduct_name,\tproduct_discount,\tproduct_mp,\tproduct_sp,\tproduct_price,\tproduct_category) VALUES (%s,%s,%s,%s,%s,%s,%s)\"\n",
    "\n",
    "#insert query in SQL"
   ]
  },
  {
   "cell_type": "code",
   "execution_count": 194,
   "metadata": {},
   "outputs": [],
   "source": [
    "for sh in range(0,len(sheet_name)):\n",
    "    sheet= excel_sheet.sheet_by_index(sh)\n",
    "    \n",
    "    for r in range(1,sheet.nrows):\n",
    "        product_id = sheet.cell(r,0).value\n",
    "\n",
    "        product_name = sheet.cell(r,1).value\n",
    "\n",
    "        product_discount = sheet.cell(r,2).value\n",
    "     \n",
    "        product_mp = sheet.cell(r,3).value\n",
    "\n",
    "        product_sp = sheet.cell(r,4).value\n",
    "      \n",
    "        product_price = sheet.cell(r,5).value\n",
    "        product_category = sheet.cell(r,6).value\n",
    "        \n",
    "        \n",
    "        \n",
    "        prod_details_value = (product_id,\tproduct_name,\tproduct_discount,\tproduct_mp,\tproduct_sp,\tproduct_price,\tproduct_category)\n",
    "        \n",
    "        \n",
    "        cursor.execute(insert_query,prod_details_value)\n",
    "        database.commit()\n",
    "\n",
    "# assigning columns of csv to columns of table in the database"
   ]
  },
  {
   "cell_type": "code",
   "execution_count": null,
   "metadata": {},
   "outputs": [],
   "source": []
  },
  {
   "cell_type": "code",
   "execution_count": null,
   "metadata": {},
   "outputs": [],
   "source": []
  }
 ],
 "metadata": {
  "kernelspec": {
   "display_name": "Python 3.10.8 64-bit",
   "language": "python",
   "name": "python3"
  },
  "language_info": {
   "codemirror_mode": {
    "name": "ipython",
    "version": 3
   },
   "file_extension": ".py",
   "mimetype": "text/x-python",
   "name": "python",
   "nbconvert_exporter": "python",
   "pygments_lexer": "ipython3",
   "version": "3.10.8"
  },
  "orig_nbformat": 4,
  "vscode": {
   "interpreter": {
    "hash": "b0fa6594d8f4cbf19f97940f81e996739fb7646882a419484c72d19e05852a7e"
   }
  }
 },
 "nbformat": 4,
 "nbformat_minor": 2
}
