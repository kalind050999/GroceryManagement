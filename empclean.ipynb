{
 "cells": [
  {
   "cell_type": "code",
   "execution_count": 2,
   "metadata": {},
   "outputs": [],
   "source": [
    "import pandas as pd\n",
    "import numpy as np"
   ]
  },
  {
   "cell_type": "code",
   "execution_count": 3,
   "metadata": {},
   "outputs": [],
   "source": [
    "emp = pd.read_csv('/Users/kalindjoshi/Desktop/ass3/employees.csv')\n",
    "# reading the file from directory"
   ]
  },
  {
   "cell_type": "code",
   "execution_count": 4,
   "metadata": {},
   "outputs": [
    {
     "data": {
      "text/html": [
       "<div>\n",
       "<style scoped>\n",
       "    .dataframe tbody tr th:only-of-type {\n",
       "        vertical-align: middle;\n",
       "    }\n",
       "\n",
       "    .dataframe tbody tr th {\n",
       "        vertical-align: top;\n",
       "    }\n",
       "\n",
       "    .dataframe thead th {\n",
       "        text-align: right;\n",
       "    }\n",
       "</style>\n",
       "<table border=\"1\" class=\"dataframe\">\n",
       "  <thead>\n",
       "    <tr style=\"text-align: right;\">\n",
       "      <th></th>\n",
       "      <th>EMPLOYEE_ID</th>\n",
       "      <th>FIRST_NAME</th>\n",
       "      <th>LAST_NAME</th>\n",
       "      <th>EMAIL</th>\n",
       "      <th>PHONE_NUMBER</th>\n",
       "      <th>HIRE_DATE</th>\n",
       "      <th>JOB_ID</th>\n",
       "      <th>SALARY</th>\n",
       "      <th>COMMISSION_PCT</th>\n",
       "      <th>MANAGER_ID</th>\n",
       "      <th>DEPARTMENT_ID</th>\n",
       "    </tr>\n",
       "  </thead>\n",
       "  <tbody>\n",
       "    <tr>\n",
       "      <th>0</th>\n",
       "      <td>198</td>\n",
       "      <td>Donald</td>\n",
       "      <td>OConnell</td>\n",
       "      <td>DOCONNEL</td>\n",
       "      <td>650.507.9833</td>\n",
       "      <td>21-JUN-07</td>\n",
       "      <td>SH_CLERK</td>\n",
       "      <td>2600</td>\n",
       "      <td>-</td>\n",
       "      <td>124</td>\n",
       "      <td>50</td>\n",
       "    </tr>\n",
       "    <tr>\n",
       "      <th>1</th>\n",
       "      <td>199</td>\n",
       "      <td>Douglas</td>\n",
       "      <td>Grant</td>\n",
       "      <td>DGRANT</td>\n",
       "      <td>650.507.9844</td>\n",
       "      <td>13-JAN-08</td>\n",
       "      <td>SH_CLERK</td>\n",
       "      <td>2600</td>\n",
       "      <td>-</td>\n",
       "      <td>124</td>\n",
       "      <td>50</td>\n",
       "    </tr>\n",
       "    <tr>\n",
       "      <th>2</th>\n",
       "      <td>200</td>\n",
       "      <td>Jennifer</td>\n",
       "      <td>Whalen</td>\n",
       "      <td>JWHALEN</td>\n",
       "      <td>515.123.4444</td>\n",
       "      <td>17-SEP-03</td>\n",
       "      <td>AD_ASST</td>\n",
       "      <td>4400</td>\n",
       "      <td>-</td>\n",
       "      <td>101</td>\n",
       "      <td>10</td>\n",
       "    </tr>\n",
       "    <tr>\n",
       "      <th>3</th>\n",
       "      <td>201</td>\n",
       "      <td>Michael</td>\n",
       "      <td>Hartstein</td>\n",
       "      <td>MHARTSTE</td>\n",
       "      <td>515.123.5555</td>\n",
       "      <td>17-FEB-04</td>\n",
       "      <td>MK_MAN</td>\n",
       "      <td>13000</td>\n",
       "      <td>-</td>\n",
       "      <td>100</td>\n",
       "      <td>20</td>\n",
       "    </tr>\n",
       "    <tr>\n",
       "      <th>4</th>\n",
       "      <td>202</td>\n",
       "      <td>Pat</td>\n",
       "      <td>Fay</td>\n",
       "      <td>PFAY</td>\n",
       "      <td>603.123.6666</td>\n",
       "      <td>17-AUG-05</td>\n",
       "      <td>MK_REP</td>\n",
       "      <td>6000</td>\n",
       "      <td>-</td>\n",
       "      <td>201</td>\n",
       "      <td>20</td>\n",
       "    </tr>\n",
       "  </tbody>\n",
       "</table>\n",
       "</div>"
      ],
      "text/plain": [
       "   EMPLOYEE_ID FIRST_NAME  LAST_NAME     EMAIL  PHONE_NUMBER  HIRE_DATE  \\\n",
       "0          198     Donald   OConnell  DOCONNEL  650.507.9833  21-JUN-07   \n",
       "1          199    Douglas      Grant    DGRANT  650.507.9844  13-JAN-08   \n",
       "2          200   Jennifer     Whalen   JWHALEN  515.123.4444  17-SEP-03   \n",
       "3          201    Michael  Hartstein  MHARTSTE  515.123.5555  17-FEB-04   \n",
       "4          202        Pat        Fay      PFAY  603.123.6666  17-AUG-05   \n",
       "\n",
       "     JOB_ID  SALARY COMMISSION_PCT MANAGER_ID  DEPARTMENT_ID  \n",
       "0  SH_CLERK    2600             -         124             50  \n",
       "1  SH_CLERK    2600             -         124             50  \n",
       "2   AD_ASST    4400             -         101             10  \n",
       "3    MK_MAN   13000             -         100             20  \n",
       "4    MK_REP    6000             -         201             20  "
      ]
     },
     "execution_count": 4,
     "metadata": {},
     "output_type": "execute_result"
    }
   ],
   "source": [
    "emp.head()"
   ]
  },
  {
   "cell_type": "code",
   "execution_count": 5,
   "metadata": {},
   "outputs": [
    {
     "data": {
      "text/plain": [
       "EMPLOYEE_ID       False\n",
       "FIRST_NAME        False\n",
       "LAST_NAME         False\n",
       "EMAIL             False\n",
       "PHONE_NUMBER      False\n",
       "HIRE_DATE         False\n",
       "JOB_ID            False\n",
       "SALARY            False\n",
       "COMMISSION_PCT    False\n",
       "MANAGER_ID        False\n",
       "DEPARTMENT_ID     False\n",
       "dtype: bool"
      ]
     },
     "execution_count": 5,
     "metadata": {},
     "output_type": "execute_result"
    }
   ],
   "source": [
    "emp.isnull().any()\n",
    "# checking for any null values"
   ]
  },
  {
   "cell_type": "code",
   "execution_count": 6,
   "metadata": {},
   "outputs": [
    {
     "name": "stdout",
     "output_type": "stream",
     "text": [
      "   EMPLOYEE_ID FIRST_NAME  LAST_NAME     EMAIL  PHONE_NUMBER  HIRE_DATE\n",
      "0          198     Donald   OConnell  DOCONNEL  650.507.9833  21-JUN-07\n",
      "1          199    Douglas      Grant    DGRANT  650.507.9844  13-JAN-08\n",
      "2          200   Jennifer     Whalen   JWHALEN  515.123.4444  17-SEP-03\n",
      "3          201    Michael  Hartstein  MHARTSTE  515.123.5555  17-FEB-04\n"
     ]
    }
   ],
   "source": [
    "emp = emp.drop(['JOB_ID', 'SALARY', 'COMMISSION_PCT', 'MANAGER_ID', 'DEPARTMENT_ID'], axis=1)\n",
    "print(emp.head(4))\n",
    "\n",
    "#dropping unwanted columns"
   ]
  },
  {
   "cell_type": "code",
   "execution_count": 7,
   "metadata": {},
   "outputs": [
    {
     "name": "stdout",
     "output_type": "stream",
     "text": [
      "   employee_id first_name  last_name     email  phone_number  hire_date\n",
      "0          198     Donald   OConnell  DOCONNEL  650.507.9833  21-JUN-07\n",
      "1          199    Douglas      Grant    DGRANT  650.507.9844  13-JAN-08\n",
      "2          200   Jennifer     Whalen   JWHALEN  515.123.4444  17-SEP-03\n",
      "3          201    Michael  Hartstein  MHARTSTE  515.123.5555  17-FEB-04\n"
     ]
    }
   ],
   "source": [
    "emp.columns = map(str.lower, emp.columns)\n",
    "print(emp.head(4))\n",
    "\n",
    "#converting column titles to lower case"
   ]
  },
  {
   "cell_type": "code",
   "execution_count": 8,
   "metadata": {},
   "outputs": [],
   "source": [
    "emp['first_name'] = emp['first_name'].str.lower()\n",
    "emp['last_name'] = emp['last_name'].str.lower()\n",
    "emp['email'] = emp['email'].str.lower()\n",
    "emp['hire_date'] = emp['hire_date'].str.lower()\n",
    "\n",
    "#converting all rows to lower case\n"
   ]
  },
  {
   "cell_type": "code",
   "execution_count": 9,
   "metadata": {},
   "outputs": [
    {
     "data": {
      "text/html": [
       "<div>\n",
       "<style scoped>\n",
       "    .dataframe tbody tr th:only-of-type {\n",
       "        vertical-align: middle;\n",
       "    }\n",
       "\n",
       "    .dataframe tbody tr th {\n",
       "        vertical-align: top;\n",
       "    }\n",
       "\n",
       "    .dataframe thead th {\n",
       "        text-align: right;\n",
       "    }\n",
       "</style>\n",
       "<table border=\"1\" class=\"dataframe\">\n",
       "  <thead>\n",
       "    <tr style=\"text-align: right;\">\n",
       "      <th></th>\n",
       "      <th>employee_id</th>\n",
       "      <th>first_name</th>\n",
       "      <th>last_name</th>\n",
       "      <th>email</th>\n",
       "      <th>phone_number</th>\n",
       "      <th>hire_date</th>\n",
       "    </tr>\n",
       "  </thead>\n",
       "  <tbody>\n",
       "    <tr>\n",
       "      <th>0</th>\n",
       "      <td>198</td>\n",
       "      <td>donald</td>\n",
       "      <td>oconnell</td>\n",
       "      <td>doconnel</td>\n",
       "      <td>650.507.9833</td>\n",
       "      <td>21-jun-07</td>\n",
       "    </tr>\n",
       "    <tr>\n",
       "      <th>1</th>\n",
       "      <td>199</td>\n",
       "      <td>douglas</td>\n",
       "      <td>grant</td>\n",
       "      <td>dgrant</td>\n",
       "      <td>650.507.9844</td>\n",
       "      <td>13-jan-08</td>\n",
       "    </tr>\n",
       "    <tr>\n",
       "      <th>2</th>\n",
       "      <td>200</td>\n",
       "      <td>jennifer</td>\n",
       "      <td>whalen</td>\n",
       "      <td>jwhalen</td>\n",
       "      <td>515.123.4444</td>\n",
       "      <td>17-sep-03</td>\n",
       "    </tr>\n",
       "    <tr>\n",
       "      <th>3</th>\n",
       "      <td>201</td>\n",
       "      <td>michael</td>\n",
       "      <td>hartstein</td>\n",
       "      <td>mhartste</td>\n",
       "      <td>515.123.5555</td>\n",
       "      <td>17-feb-04</td>\n",
       "    </tr>\n",
       "    <tr>\n",
       "      <th>4</th>\n",
       "      <td>202</td>\n",
       "      <td>pat</td>\n",
       "      <td>fay</td>\n",
       "      <td>pfay</td>\n",
       "      <td>603.123.6666</td>\n",
       "      <td>17-aug-05</td>\n",
       "    </tr>\n",
       "  </tbody>\n",
       "</table>\n",
       "</div>"
      ],
      "text/plain": [
       "   employee_id first_name  last_name     email  phone_number  hire_date\n",
       "0          198     donald   oconnell  doconnel  650.507.9833  21-jun-07\n",
       "1          199    douglas      grant    dgrant  650.507.9844  13-jan-08\n",
       "2          200   jennifer     whalen   jwhalen  515.123.4444  17-sep-03\n",
       "3          201    michael  hartstein  mhartste  515.123.5555  17-feb-04\n",
       "4          202        pat        fay      pfay  603.123.6666  17-aug-05"
      ]
     },
     "execution_count": 9,
     "metadata": {},
     "output_type": "execute_result"
    }
   ],
   "source": [
    "emp.head()"
   ]
  },
  {
   "cell_type": "code",
   "execution_count": 11,
   "metadata": {},
   "outputs": [],
   "source": [
    "emp['empsatisfaction'] = '1'\n",
    "# adding empsatisfaction column "
   ]
  },
  {
   "cell_type": "code",
   "execution_count": 12,
   "metadata": {},
   "outputs": [
    {
     "data": {
      "text/html": [
       "<div>\n",
       "<style scoped>\n",
       "    .dataframe tbody tr th:only-of-type {\n",
       "        vertical-align: middle;\n",
       "    }\n",
       "\n",
       "    .dataframe tbody tr th {\n",
       "        vertical-align: top;\n",
       "    }\n",
       "\n",
       "    .dataframe thead th {\n",
       "        text-align: right;\n",
       "    }\n",
       "</style>\n",
       "<table border=\"1\" class=\"dataframe\">\n",
       "  <thead>\n",
       "    <tr style=\"text-align: right;\">\n",
       "      <th></th>\n",
       "      <th>employee_id</th>\n",
       "      <th>first_name</th>\n",
       "      <th>last_name</th>\n",
       "      <th>email</th>\n",
       "      <th>phone_number</th>\n",
       "      <th>hire_date</th>\n",
       "      <th>empsatisfaction</th>\n",
       "    </tr>\n",
       "  </thead>\n",
       "  <tbody>\n",
       "    <tr>\n",
       "      <th>0</th>\n",
       "      <td>198</td>\n",
       "      <td>donald</td>\n",
       "      <td>oconnell</td>\n",
       "      <td>doconnel</td>\n",
       "      <td>650.507.9833</td>\n",
       "      <td>21-jun-07</td>\n",
       "      <td>1</td>\n",
       "    </tr>\n",
       "    <tr>\n",
       "      <th>1</th>\n",
       "      <td>199</td>\n",
       "      <td>douglas</td>\n",
       "      <td>grant</td>\n",
       "      <td>dgrant</td>\n",
       "      <td>650.507.9844</td>\n",
       "      <td>13-jan-08</td>\n",
       "      <td>1</td>\n",
       "    </tr>\n",
       "    <tr>\n",
       "      <th>2</th>\n",
       "      <td>200</td>\n",
       "      <td>jennifer</td>\n",
       "      <td>whalen</td>\n",
       "      <td>jwhalen</td>\n",
       "      <td>515.123.4444</td>\n",
       "      <td>17-sep-03</td>\n",
       "      <td>1</td>\n",
       "    </tr>\n",
       "    <tr>\n",
       "      <th>3</th>\n",
       "      <td>201</td>\n",
       "      <td>michael</td>\n",
       "      <td>hartstein</td>\n",
       "      <td>mhartste</td>\n",
       "      <td>515.123.5555</td>\n",
       "      <td>17-feb-04</td>\n",
       "      <td>1</td>\n",
       "    </tr>\n",
       "    <tr>\n",
       "      <th>4</th>\n",
       "      <td>202</td>\n",
       "      <td>pat</td>\n",
       "      <td>fay</td>\n",
       "      <td>pfay</td>\n",
       "      <td>603.123.6666</td>\n",
       "      <td>17-aug-05</td>\n",
       "      <td>1</td>\n",
       "    </tr>\n",
       "  </tbody>\n",
       "</table>\n",
       "</div>"
      ],
      "text/plain": [
       "   employee_id first_name  last_name     email  phone_number  hire_date  \\\n",
       "0          198     donald   oconnell  doconnel  650.507.9833  21-jun-07   \n",
       "1          199    douglas      grant    dgrant  650.507.9844  13-jan-08   \n",
       "2          200   jennifer     whalen   jwhalen  515.123.4444  17-sep-03   \n",
       "3          201    michael  hartstein  mhartste  515.123.5555  17-feb-04   \n",
       "4          202        pat        fay      pfay  603.123.6666  17-aug-05   \n",
       "\n",
       "  empsatisfaction  \n",
       "0               1  \n",
       "1               1  \n",
       "2               1  \n",
       "3               1  \n",
       "4               1  "
      ]
     },
     "execution_count": 12,
     "metadata": {},
     "output_type": "execute_result"
    }
   ],
   "source": [
    "emp.head()"
   ]
  },
  {
   "cell_type": "code",
   "execution_count": 13,
   "metadata": {},
   "outputs": [],
   "source": [
    "emp.to_csv('/Users/kalindjoshi/Desktop/ass3/empclean.csv', index=False)\n",
    "\n",
    "#saving the cleaned file as empclean.csv to the given address"
   ]
  }
 ],
 "metadata": {
  "kernelspec": {
   "display_name": "Python 3.10.8 64-bit",
   "language": "python",
   "name": "python3"
  },
  "language_info": {
   "codemirror_mode": {
    "name": "ipython",
    "version": 3
   },
   "file_extension": ".py",
   "mimetype": "text/x-python",
   "name": "python",
   "nbconvert_exporter": "python",
   "pygments_lexer": "ipython3",
   "version": "3.10.8"
  },
  "orig_nbformat": 4,
  "vscode": {
   "interpreter": {
    "hash": "b0fa6594d8f4cbf19f97940f81e996739fb7646882a419484c72d19e05852a7e"
   }
  }
 },
 "nbformat": 4,
 "nbformat_minor": 2
}
