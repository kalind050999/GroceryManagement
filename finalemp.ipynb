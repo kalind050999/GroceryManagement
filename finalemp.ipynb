{
 "cells": [
  {
   "cell_type": "code",
   "execution_count": 1,
   "metadata": {},
   "outputs": [],
   "source": [
    "import pandas as pd\n",
    "import numpy as np"
   ]
  },
  {
   "cell_type": "code",
   "execution_count": 2,
   "metadata": {},
   "outputs": [],
   "source": [
    "emp = pd.read_csv('/Users/kalindjoshi/Desktop/ass3/empclean.csv')\n",
    "emp1 = pd.read_csv('/Users/kalindjoshi/Desktop/ass3/empclean1.csv')\n",
    "\n",
    "#reading 2 files"
   ]
  },
  {
   "cell_type": "code",
   "execution_count": 3,
   "metadata": {},
   "outputs": [],
   "source": [
    "\n",
    "finalemp = pd.concat([emp , emp1], sort=True, axis=0)\n",
    "\n",
    "#concat the two csv files"
   ]
  },
  {
   "cell_type": "code",
   "execution_count": 5,
   "metadata": {},
   "outputs": [],
   "source": [
    "finalemp = finalemp[['empid',\t'empfirstname',\t'emplastname',\t'empemail',\t'empnumber',\t'empjoining',\t'empsatisfaction']]\n",
    "\n",
    "#giving names to dataframe"
   ]
  },
  {
   "cell_type": "code",
   "execution_count": 6,
   "metadata": {},
   "outputs": [
    {
     "name": "stderr",
     "output_type": "stream",
     "text": [
      "/var/folders/s1/q_mld00s2k9_7gdgg1msrp200000gn/T/ipykernel_20073/1692716294.py:1: SettingWithCopyWarning: \n",
      "A value is trying to be set on a copy of a slice from a DataFrame\n",
      "\n",
      "See the caveats in the documentation: https://pandas.pydata.org/pandas-docs/stable/user_guide/indexing.html#returning-a-view-versus-a-copy\n",
      "  finalemp.fillna(method=\"ffill\", inplace = True)\n"
     ]
    }
   ],
   "source": [
    "finalemp.fillna(method=\"ffill\", inplace = True)"
   ]
  },
  {
   "cell_type": "code",
   "execution_count": 7,
   "metadata": {},
   "outputs": [
    {
     "data": {
      "text/html": [
       "<div>\n",
       "<style scoped>\n",
       "    .dataframe tbody tr th:only-of-type {\n",
       "        vertical-align: middle;\n",
       "    }\n",
       "\n",
       "    .dataframe tbody tr th {\n",
       "        vertical-align: top;\n",
       "    }\n",
       "\n",
       "    .dataframe thead th {\n",
       "        text-align: right;\n",
       "    }\n",
       "</style>\n",
       "<table border=\"1\" class=\"dataframe\">\n",
       "  <thead>\n",
       "    <tr style=\"text-align: right;\">\n",
       "      <th></th>\n",
       "      <th>empid</th>\n",
       "      <th>empfirstname</th>\n",
       "      <th>emplastname</th>\n",
       "      <th>empemail</th>\n",
       "      <th>empnumber</th>\n",
       "      <th>empjoining</th>\n",
       "      <th>empsatisfaction</th>\n",
       "    </tr>\n",
       "  </thead>\n",
       "  <tbody>\n",
       "    <tr>\n",
       "      <th>0</th>\n",
       "      <td>198.0</td>\n",
       "      <td>donald</td>\n",
       "      <td>oconnell</td>\n",
       "      <td>doconnel</td>\n",
       "      <td>650.507.9833</td>\n",
       "      <td>21-jun-07</td>\n",
       "      <td>3</td>\n",
       "    </tr>\n",
       "    <tr>\n",
       "      <th>1</th>\n",
       "      <td>199.0</td>\n",
       "      <td>douglas</td>\n",
       "      <td>grant</td>\n",
       "      <td>dgrant</td>\n",
       "      <td>650.507.9844</td>\n",
       "      <td>13-jan-08</td>\n",
       "      <td>3</td>\n",
       "    </tr>\n",
       "    <tr>\n",
       "      <th>2</th>\n",
       "      <td>200.0</td>\n",
       "      <td>jennifer</td>\n",
       "      <td>whalen</td>\n",
       "      <td>jwhalen</td>\n",
       "      <td>515.123.4444</td>\n",
       "      <td>17-sep-03</td>\n",
       "      <td>4</td>\n",
       "    </tr>\n",
       "    <tr>\n",
       "      <th>3</th>\n",
       "      <td>201.0</td>\n",
       "      <td>michael</td>\n",
       "      <td>hartstein</td>\n",
       "      <td>mhartste</td>\n",
       "      <td>515.123.5555</td>\n",
       "      <td>17-feb-04</td>\n",
       "      <td>4</td>\n",
       "    </tr>\n",
       "    <tr>\n",
       "      <th>4</th>\n",
       "      <td>202.0</td>\n",
       "      <td>pat</td>\n",
       "      <td>fay</td>\n",
       "      <td>pfay</td>\n",
       "      <td>603.123.6666</td>\n",
       "      <td>17-aug-05</td>\n",
       "      <td>2</td>\n",
       "    </tr>\n",
       "  </tbody>\n",
       "</table>\n",
       "</div>"
      ],
      "text/plain": [
       "   empid empfirstname emplastname  empemail     empnumber empjoining  \\\n",
       "0  198.0       donald    oconnell  doconnel  650.507.9833  21-jun-07   \n",
       "1  199.0      douglas       grant    dgrant  650.507.9844  13-jan-08   \n",
       "2  200.0     jennifer      whalen   jwhalen  515.123.4444  17-sep-03   \n",
       "3  201.0      michael   hartstein  mhartste  515.123.5555  17-feb-04   \n",
       "4  202.0          pat         fay      pfay  603.123.6666  17-aug-05   \n",
       "\n",
       "   empsatisfaction  \n",
       "0                3  \n",
       "1                3  \n",
       "2                4  \n",
       "3                4  \n",
       "4                2  "
      ]
     },
     "execution_count": 7,
     "metadata": {},
     "output_type": "execute_result"
    }
   ],
   "source": [
    "finalemp.head()"
   ]
  },
  {
   "cell_type": "code",
   "execution_count": 8,
   "metadata": {},
   "outputs": [
    {
     "data": {
      "text/plain": [
       "empid              361\n",
       "empfirstname       361\n",
       "emplastname        361\n",
       "empemail           361\n",
       "empnumber          361\n",
       "empjoining         361\n",
       "empsatisfaction    361\n",
       "dtype: int64"
      ]
     },
     "execution_count": 8,
     "metadata": {},
     "output_type": "execute_result"
    }
   ],
   "source": [
    "finalemp.isna().count()"
   ]
  },
  {
   "cell_type": "code",
   "execution_count": 9,
   "metadata": {},
   "outputs": [],
   "source": [
    "finalemp.to_csv('/Users/kalindjoshi/Desktop/ass3/finalemp.csv', index = False)\n",
    "\n",
    "#creating new file finalemp.csv to import "
   ]
  }
 ],
 "metadata": {
  "kernelspec": {
   "display_name": "Python 3.10.8 64-bit",
   "language": "python",
   "name": "python3"
  },
  "language_info": {
   "codemirror_mode": {
    "name": "ipython",
    "version": 3
   },
   "file_extension": ".py",
   "mimetype": "text/x-python",
   "name": "python",
   "nbconvert_exporter": "python",
   "pygments_lexer": "ipython3",
   "version": "3.10.8"
  },
  "orig_nbformat": 4,
  "vscode": {
   "interpreter": {
    "hash": "b0fa6594d8f4cbf19f97940f81e996739fb7646882a419484c72d19e05852a7e"
   }
  }
 },
 "nbformat": 4,
 "nbformat_minor": 2
}
